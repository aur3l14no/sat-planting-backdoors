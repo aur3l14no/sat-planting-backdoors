{
 "cells": [
  {
   "cell_type": "code",
   "execution_count": 1,
   "metadata": {},
   "outputs": [],
   "source": [
    "import time\n",
    "\n",
    "from pysat.formula import CNF\n",
    "from pysat.process import Processor\n",
    "from pysat.solvers import Solver"
   ]
  },
  {
   "cell_type": "code",
   "execution_count": 2,
   "metadata": {},
   "outputs": [],
   "source": [
    "cnf = CNF(from_file='cnfs/march-2023-03-13-16-13-22-044416.cnf')"
   ]
  },
  {
   "cell_type": "code",
   "execution_count": 3,
   "metadata": {},
   "outputs": [],
   "source": [
    "default_kwargs = {\n",
    "    'rounds': 1,\n",
    "    'block': False,\n",
    "    'cover': False,\n",
    "    'condition': False,\n",
    "    'decompose': False,\n",
    "    'elim': False,\n",
    "    'probe': False,\n",
    "    'probehbr': False,\n",
    "    'subsume': False,\n",
    "    'vivify': False\n",
    "}"
   ]
  },
  {
   "cell_type": "code",
   "execution_count": 4,
   "metadata": {},
   "outputs": [],
   "source": [
    "def process_and_solve(cnf, **kwargs):\n",
    "    print('Process kwargs:', kwargs)\n",
    "    processor = Processor(bootstrap_with=cnf)\n",
    "    begin = time.time()\n",
    "    processed = processor.process(**kwargs)\n",
    "    end = time.time()\n",
    "    print('Process time:',  end - begin)\n",
    "    print('Processed nv, nc:', processed.nv, len(processed.clauses))\n",
    "    with Solver(name='g4', bootstrap_with=processed, use_timer=True) as solver:\n",
    "        solver.solve()\n",
    "        if solver.get_status() == True:\n",
    "            print('SAT:', solver.get_model())\n",
    "        elif solver.get_status() == False:\n",
    "            print('UNSAT:', solver.get_core())\n",
    "        print('Proof:', solver.get_proof())\n",
    "        print('Processed solve time:', solver.time())\n",
    "        print('Solver stats:', solver.accum_stats())\n",
    "        return solver.get_status()\n"
   ]
  },
  {
   "cell_type": "code",
   "execution_count": 5,
   "metadata": {},
   "outputs": [],
   "source": [
    "kwargs_all_off = {k: False if isinstance(v, bool) else v for k, v in default_kwargs.items()}\n",
    "kwargs_all_on = {k: True if isinstance(v, bool) else v for k, v in default_kwargs.items()}\n"
   ]
  },
  {
   "cell_type": "code",
   "execution_count": 6,
   "metadata": {},
   "outputs": [
    {
     "name": "stdout",
     "output_type": "stream",
     "text": [
      "Process kwargs: {'rounds': 1, 'block': False, 'cover': False, 'condition': False, 'decompose': False, 'elim': False, 'probe': False, 'probehbr': False, 'subsume': False, 'vivify': False}\n",
      "Process time: 13.703529119491577\n",
      "Processed nv, nc: 1000 803350\n",
      "UNSAT: None\n",
      "Proof: None\n",
      "Processed solve time: 0.045637329000001614\n",
      "Solver stats: {'restarts': 1, 'conflicts': 26, 'decisions': 696, 'propagations': 753}\n"
     ]
    },
    {
     "data": {
      "text/plain": [
       "False"
      ]
     },
     "execution_count": 6,
     "metadata": {},
     "output_type": "execute_result"
    }
   ],
   "source": [
    "process_and_solve(cnf, **kwargs_all_off)"
   ]
  },
  {
   "cell_type": "code",
   "execution_count": 7,
   "metadata": {},
   "outputs": [
    {
     "name": "stdout",
     "output_type": "stream",
     "text": [
      "Process kwargs: {'rounds': 1, 'block': True, 'cover': True, 'condition': True, 'decompose': True, 'elim': True, 'probe': True, 'probehbr': True, 'subsume': True, 'vivify': True}\n",
      "Process time: 12.075571537017822\n",
      "Processed nv, nc: 1000 565466\n",
      "UNSAT: None\n",
      "Proof: None\n",
      "Processed solve time: 0.0327479540000013\n",
      "Solver stats: {'restarts': 1, 'conflicts': 11, 'decisions': 461, 'propagations': 478}\n"
     ]
    },
    {
     "data": {
      "text/plain": [
       "False"
      ]
     },
     "execution_count": 7,
     "metadata": {},
     "output_type": "execute_result"
    }
   ],
   "source": [
    "process_and_solve(cnf, **kwargs_all_on)"
   ]
  },
  {
   "cell_type": "code",
   "execution_count": 8,
   "metadata": {},
   "outputs": [],
   "source": [
    "processor = Processor(bootstrap_with=cnf)\n",
    "begin = time.time()\n",
    "processed = processor.process(**kwargs_all_on)\n"
   ]
  },
  {
   "cell_type": "code",
   "execution_count": 9,
   "metadata": {},
   "outputs": [],
   "source": [
    "# with Solver(bootstrap_with=processed, use_timer=True) as solver:\n",
    "#     res = None\n",
    "#     i = 0\n",
    "#     while res is None:\n",
    "#         if i % 100000000 == 0:\n",
    "#             print(solver.accum_stats())\n",
    "#         i += 1\n",
    "#         solver.conf_budget(budget=1)\n",
    "#         solver.prop_budget(budget=1)\n",
    "#         res = solver.solve_limited()\n",
    "#     print(solver.accum_stats())\n",
    "    "
   ]
  }
 ],
 "metadata": {
  "kernelspec": {
   "display_name": "backdoor",
   "language": "python",
   "name": "python3"
  },
  "language_info": {
   "codemirror_mode": {
    "name": "ipython",
    "version": 3
   },
   "file_extension": ".py",
   "mimetype": "text/x-python",
   "name": "python",
   "nbconvert_exporter": "python",
   "pygments_lexer": "ipython3",
   "version": "3.10.9"
  },
  "orig_nbformat": 4
 },
 "nbformat": 4,
 "nbformat_minor": 2
}
